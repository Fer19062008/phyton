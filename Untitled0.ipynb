{
  "nbformat": 4,
  "nbformat_minor": 0,
  "metadata": {
    "colab": {
      "provenance": [],
      "authorship_tag": "ABX9TyM/tGv1hSPWABbxrhpEXe3G",
      "include_colab_link": true
    },
    "kernelspec": {
      "name": "python3",
      "display_name": "Python 3"
    },
    "language_info": {
      "name": "python"
    }
  },
  "cells": [
    {
      "cell_type": "markdown",
      "metadata": {
        "id": "view-in-github",
        "colab_type": "text"
      },
      "source": [
        "<a href=\"https://colab.research.google.com/github/Fer19062008/phyton/blob/main/Untitled0.ipynb\" target=\"_parent\"><img src=\"https://colab.research.google.com/assets/colab-badge.svg\" alt=\"Open In Colab\"/></a>"
      ]
    },
    {
      "cell_type": "code",
      "execution_count": null,
      "metadata": {
        "id": "hQXd5ozLNxgX"
      },
      "outputs": [],
      "source": [
        "pessoas = int(input(\"Quantas pessoas tem no grupo? \"))\n",
        "\n",
        "# Lugares disponíveis em cada veículo\n",
        "lugares_onibus = 46\n",
        "lugares_van = 12\n",
        "\n",
        "# Melhor solução inicial: só vans\n",
        "melhor_qtd = (pessoas // lugares_van) + (1 if pessoas % lugares_van != 0 else 0)\n",
        "melhor_descr = f\"{melhor_qtd} vans\"\n",
        "\n",
        "# Testa soluções com ônibus + vans\n",
        "for onibus in range(0, pessoas // lugares_onibus + 2):  # até um pouco além do necessário\n",
        "    for vans in range(0, pessoas // lugares_van + 2):\n",
        "        capacidade = onibus * lugares_onibus + vans * lugares_van\n",
        "        if capacidade >= pessoas:  # precisa comportar todo mundo\n",
        "            total_veiculos = onibus + vans\n",
        "            if total_veiculos < melhor_qtd:\n",
        "                melhor_qtd = total_veiculos\n",
        "                if onibus > 0 and vans > 0:\n",
        "                    melhor_descr = f\"{onibus} ônibus e {vans} vans\"\n",
        "                elif onibus > 0:\n",
        "                    melhor_descr = f\"{onibus} ônibus\"\n",
        "                else:\n",
        "                    melhor_descr = f\"{vans} vans\"\n",
        "\n",
        "print(f\"Compensa alugar {melhor_descr}.\")"
      ]
    }
  ]
}